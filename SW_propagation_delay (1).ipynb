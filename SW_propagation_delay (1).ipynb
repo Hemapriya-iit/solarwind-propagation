{
  "nbformat": 4,
  "nbformat_minor": 0,
  "metadata": {
    "colab": {
      "name": "SW_propagation_delay.ipynb",
      "provenance": [],
      "collapsed_sections": []
    },
    "kernelspec": {
      "name": "python3",
      "display_name": "Python 3"
    },
    "language_info": {
      "name": "python"
    }
  },
  "cells": [
    {
      "cell_type": "code",
      "metadata": {
        "id": "XxobFft4VyeJ"
      },
      "source": [
        "from google.colab import drive\n",
        "drive.mount('/content/drive')"
      ],
      "execution_count": null,
      "outputs": []
    },
    {
      "cell_type": "code",
      "metadata": {
        "id": "C7AquivBPIa7"
      },
      "source": [
        "import matplotlib.pyplot as plt\n",
        "import numpy as np\n",
        "import pandas as pd\n",
        "from sklearn.metrics import mean_squared_error"
      ],
      "execution_count": null,
      "outputs": []
    },
    {
      "cell_type": "code",
      "metadata": {
        "id": "mlQadY8uP0W7"
      },
      "source": [
        "import pickle\n",
        "with open('/content/drive/MyDrive/final_learningset_SWdelay.pickle', 'rb') as f:\n",
        "    [learnvector_o,learnvector_m,learnvector_s,learnvector,timevector]=pickle.load(f)"
      ],
      "execution_count": null,
      "outputs": []
    },
    {
      "cell_type": "code",
      "metadata": {
        "id": "Un2438BPlOCw"
      },
      "source": [
        "import numpy as np\n",
        "np.array(learnvector_o).T.shape"
      ],
      "execution_count": null,
      "outputs": []
    },
    {
      "cell_type": "code",
      "metadata": {
        "id": "owpaPO2HlPMT"
      },
      "source": [
        "input_x=np.array(learnvector)\n",
        "target_y=np.array(timevector)[:,2]"
      ],
      "execution_count": null,
      "outputs": []
    },
    {
      "cell_type": "code",
      "metadata": {
        "id": "XJZ7T1AUmvtj"
      },
      "source": [
        "import matplotlib.pyplot as plt\n",
        "plt.figure(figsize=(15,7))\n",
        "plt.plot(target_y)"
      ],
      "execution_count": null,
      "outputs": []
    },
    {
      "cell_type": "code",
      "metadata": {
        "id": "Hjz8_NvQO_Fn"
      },
      "source": [
        "plt.hist(target_y/60)\n",
        "plt.xlabel('Time delay(s)')\n",
        "plt.ylabel('Frequency')"
      ],
      "execution_count": null,
      "outputs": []
    },
    {
      "cell_type": "code",
      "metadata": {
        "id": "6bNVtvWymxfp"
      },
      "source": [
        "##input data\n",
        "plt.hist(np.array(learnvector_o).T[:,0],label='rx')"
      ],
      "execution_count": null,
      "outputs": []
    },
    {
      "cell_type": "code",
      "metadata": {
        "id": "Ni-4n_h7rO67"
      },
      "source": [
        "plt.hist(np.array(learnvector_o).T[:,1],label='ry')"
      ],
      "execution_count": null,
      "outputs": []
    },
    {
      "cell_type": "code",
      "metadata": {
        "id": "Xox1hpzir5tU"
      },
      "source": [
        "plt.hist(np.array(learnvector_o).T[:,2],label='rz')"
      ],
      "execution_count": null,
      "outputs": []
    },
    {
      "cell_type": "code",
      "metadata": {
        "id": "H7j3cZYetFll"
      },
      "source": [
        "plt.hist(np.array(learnvector_o).T[:,3],label='vx')"
      ],
      "execution_count": null,
      "outputs": []
    },
    {
      "cell_type": "code",
      "metadata": {
        "id": "HB3-kKeNtKz7"
      },
      "source": [
        "plt.hist(np.array(learnvector_o).T[:,4],label='vy')"
      ],
      "execution_count": null,
      "outputs": []
    },
    {
      "cell_type": "code",
      "metadata": {
        "id": "6Jd48rvrtNr3"
      },
      "source": [
        "plt.hist(np.array(learnvector_o).T[:,5],label='vz')"
      ],
      "execution_count": null,
      "outputs": []
    },
    {
      "cell_type": "code",
      "metadata": {
        "id": "8MTl34L9tQqd"
      },
      "source": [
        "##ML model\n",
        "#standarsization done already\n",
        "#Models-GPR,RF,Adaptive Boosting, Neural Network, Gaussian Naive Bayes, Quadratic Discriminant Analysis, and eXtreme Gradient Boosting, "
      ],
      "execution_count": null,
      "outputs": []
    },
    {
      "cell_type": "code",
      "metadata": {
        "id": "gSTP7R4quYvp"
      },
      "source": [
        "#Random-splitting\n",
        "import numpy as np\n",
        "from sklearn.model_selection import train_test_split\n",
        "#x_test,y_test=input_x[-80:],target_y[-80:]\n",
        "x_train,x_test,y_train,y_test=train_test_split(input_x, target_y, test_size=0.20, random_state=42)"
      ],
      "execution_count": null,
      "outputs": []
    },
    {
      "cell_type": "code",
      "metadata": {
        "id": "1fASMWtduY1a"
      },
      "source": [
        "print((x_train).shape,(x_test).shape,(y_train).shape,(y_test).shape)"
      ],
      "execution_count": null,
      "outputs": []
    },
    {
      "cell_type": "code",
      "metadata": {
        "id": "AFph_3jWTUo_"
      },
      "source": [
        "target_y=pd.DataFrame(target_y)"
      ],
      "execution_count": null,
      "outputs": []
    },
    {
      "cell_type": "code",
      "metadata": {
        "id": "8l118-rmTo1G"
      },
      "source": [
        "x_1bin=[]\n",
        "x_2bin=[]\n",
        "x_3bin=[]\n",
        "y_1bin=[]\n",
        "y_2bin=[]\n",
        "y_3bin=[]\n",
        "\n",
        "for i in range(0,len(target_y)):\n",
        "  if target_y.iloc[i,0]<2000:\n",
        "    x_1bin.append(input_x[i])\n",
        "    y_1bin.append(target_y.iloc[i,0])\n",
        "  elif (target_y.iloc[i,0]>2000 and target_y.iloc[i,0]<3500):\n",
        "      x_2bin.append(input_x[i])\n",
        "      y_2bin.append(target_y.iloc[i,0])\n",
        "  else:\n",
        "      x_3bin.append(input_x[i])\n",
        "      y_3bin.append(target_y.iloc[i,0])\n"
      ],
      "execution_count": null,
      "outputs": []
    },
    {
      "cell_type": "code",
      "metadata": {
        "id": "FIsrPv3PVpBD"
      },
      "source": [
        "def pred_bins(model):\n",
        "  pred_1bin=model.predict(np.array(x_1bin))\n",
        "  pred_2bin=model.predict(np.array(x_2bin))\n",
        "  pred_3bin=model.predict(np.array(x_3bin))\n",
        "  #error\n",
        "  bin1_error=(np.sqrt(mean_squared_error(np.array(y_1bin),pred_1bin))/60)\n",
        "  bin2_error=(np.sqrt(mean_squared_error(np.array(y_2bin),pred_2bin))/60)\n",
        "  bin3_error=(np.sqrt(mean_squared_error(np.array(y_3bin),pred_3bin))/60)\n",
        "  return pred_1bin,pred_2bin,pred_3bin,bin1_error,bin2_error,bin3_error\n",
        "  \n"
      ],
      "execution_count": null,
      "outputs": []
    },
    {
      "cell_type": "code",
      "metadata": {
        "id": "SYApL9QjvFpa"
      },
      "source": [
        "plt.hist(y_train)"
      ],
      "execution_count": null,
      "outputs": []
    },
    {
      "cell_type": "code",
      "metadata": {
        "id": "9QH6kIjbVn4n"
      },
      "source": [
        ""
      ],
      "execution_count": null,
      "outputs": []
    },
    {
      "cell_type": "code",
      "metadata": {
        "id": "1Oj9N65sPew8"
      },
      "source": [
        "plt.hist(y_test)"
      ],
      "execution_count": null,
      "outputs": []
    },
    {
      "cell_type": "code",
      "metadata": {
        "id": "jWx4jRmkAsGj"
      },
      "source": [
        "##feature selection\n",
        "from xgboost import XGBClassifier\n",
        "from xgboost import plot_importance\n",
        "from matplotlib import pyplot\n",
        "\n",
        "fi = XGBClassifier()\n",
        "fi.fit(x_train,y_train)\n",
        "# plot feature importance\n",
        "plot_importance(fi)\n",
        "pyplot.show()"
      ],
      "execution_count": null,
      "outputs": []
    },
    {
      "cell_type": "code",
      "source": [
        "def get_models():\n",
        "\tmodels = list()\n",
        "\tmodels.append(LogisticRegression())\n",
        "\tmodels.append(Ridge(alpha=1.0))\n",
        "\tmodels.append(GaussianProcessRegressor())\n",
        "  models.append(RandomForestClassifier(n_estimators=150))\n",
        "  models.append(XGBRegressor())\n",
        "  models.append(SVR(kernel = 'rbf'))\n",
        "  models.append(DecisionTreeRegressor(random_state = 0))\n",
        "  models.append\n",
        "\n",
        "\t\n",
        "\treturn models"
      ],
      "metadata": {
        "id": "92hfzgs_k1Y9"
      },
      "execution_count": null,
      "outputs": []
    },
    {
      "cell_type": "code",
      "source": [
        "#inputs\n",
        "input_x\n",
        "target_y"
      ],
      "metadata": {
        "id": "N0PwYhUssqr4"
      },
      "execution_count": null,
      "outputs": []
    },
    {
      "cell_type": "code",
      "source": [
        "# prepare the cross-validation procedure\n",
        "def cv(model,x_1bin,x_2bin,x_3bin,y_1bin,y_2bin,y_3bin):\n",
        "  cv = KFold(n_splits=3, random_state=1, shuffle=True)\n",
        "  # create model\n",
        "\n",
        "  # evaluate model\n",
        "  scores1 = cross_val_score(model, x_1bin, np.array(y_1bin), scoring='neg_mean_squared_error', cv=cv, n_jobs=-1)\n",
        "  scores2 = cross_val_score(model, x_2bin, np.array(y_2bin), scoring='neg_mean_squared_error', cv=cv, n_jobs=-1)\n",
        "  scores3 = cross_val_score(model, x_3bin, np.array(y_3bin), scoring='neg_mean_squared_error', cv=cv, n_jobs=-1)\n",
        "  print('Bin1 : MSE: %.3f (%.3f)' % ((np.sqrt(np.abs(mean(scores1))))/60, (np.sqrt(std(scores1)))/60))\n",
        "  print('Bin2 : MSE: %.3f (%.3f)' % ((np.sqrt(np.abs(mean(scores2))))/60, (np.sqrt(std(scores2)))/60))\n",
        "  print('Bin3 : MSE: %.3f (%.3f)' % ((np.sqrt(np.abs(mean(scores3))))/60, (np.sqrt(std(scores3)))/60))"
      ],
      "metadata": {
        "id": "uIjD82xyr4zq"
      },
      "execution_count": null,
      "outputs": []
    },
    {
      "cell_type": "code",
      "source": [
        "##define models\n",
        "from sklearn.model_selection import KFold\n",
        "from sklearn.model_selection import cross_val_score\n",
        "from sklearn.linear_model import Ridge\n",
        "from numpy import mean\n",
        "from numpy import std\n",
        "from sklearn.gaussian_process import GaussianProcessRegressor\n",
        "from sklearn.ensemble import RandomForestClassifier\n",
        "from xgboost import XGBRegressor\n",
        "from sklearn.svm import SVR\n",
        "from sklearn.tree import DecisionTreeRegressor \n",
        "from sklearn.ensemble import AdaBoostRegressor\n",
        "rdge = Ridge(alpha=1.0)\n",
        "gpr=GaussianProcessRegressor()\n",
        "rfc=RandomForestClassifier(n_estimators=150)\n",
        "DT = DecisionTreeRegressor(random_state = 0)\n",
        "adaboost_model= AdaBoostRegressor()\n",
        "svre = SVR(kernel = 'rbf')\n",
        "xgbr = XGBRegressor(n_estimators=200, max_depth=3, eta=0.1, subsample=0.7, colsample_bytree=0.8)\n"
      ],
      "metadata": {
        "id": "vE3OphPdtkaw"
      },
      "execution_count": null,
      "outputs": []
    },
    {
      "cell_type": "code",
      "source": [
        "cv(xgbr,x_1bin,x_2bin,x_3bin,y_1bin,y_2bin,y_3bin)"
      ],
      "metadata": {
        "id": "U49EOl4pyUt7"
      },
      "execution_count": null,
      "outputs": []
    },
    {
      "cell_type": "code",
      "source": [
        "mean_b1=[3.779,19.064,4.641,5.297,3.698,4.073,3.680]\n",
        "mean_b2=[4.360,11.014,7.194,5.878,4.486,6.946,4.764   ]\n",
        "mean_b3=[4.137,14.514 ,7.202,5.325,4.228,6.146,4.222   ]\n",
        "std_b1=[1.160,6.891,1.349,2.920,1.152,1.762,1.129]\n",
        "std_b2=[1.366,6.092,3.025,1.531,1.685,1.658,2.040]\n",
        "std_b3=[1.825,8.266,3.661,2.680,1.865,3.852,1.497]\n",
        "model_n=['Ridge','GPR','RF','DT','Adaboost','SVR','XGB']"
      ],
      "metadata": {
        "id": "MEjTphYP-WZF"
      },
      "execution_count": null,
      "outputs": []
    },
    {
      "cell_type": "code",
      "source": [
        "mean_b1=[3.779,4.36,4.137]\n"
      ],
      "metadata": {
        "id": "yg1Y6QIqD936"
      },
      "execution_count": null,
      "outputs": []
    },
    {
      "cell_type": "code",
      "source": [
        "yerr.T"
      ],
      "metadata": {
        "id": "HhsIm23mF6sU"
      },
      "execution_count": null,
      "outputs": []
    },
    {
      "cell_type": "code",
      "source": [
        "df = pd.DataFrame([[3.779,4.36,4.137],[19.06,11.01,14.51],[4.64,7.19,7.20],[5.29,5.87,5.32],[3.69,4.4,4.22],[4.07,6.9,6.14],[3.68,4.76,4.22]], columns = ['mean_VHS', 'mean_HS', 'mean_SS'], index=['Ridge','GPR','RF','DT','Adaboost','SVR','XGB'])\n",
        "df2=pd.DataFrame([[1.16,1.36,1.82],[6.89,6.09,8.26],[1.3,3.0,3.66],[2.92,1.53,2.68],[1.15,1.68,1.86],[1.76,1.65,3.85],[1.12,2.04,1.49]],columns=['stdb1','stdb2','stdb3'],index=['Ridge','GPR','RF','DT','Adaboost','SVR','XGB'])\n",
        "# convert the std columns to an array\n",
        "#std_b1_b2_b3=pd.DataFrame([[std_b1.T,std_b2.T,std_b3.T]],columns=['stdb1','stdb2','stdb3'])\n",
        "#yerr = std_b1_b2_b3[['stdb1','stdb2','stdb3']].to_numpy().T\n",
        "\n",
        "# print(yerr)\n",
        "yerr = df2[['stdb1', 'stdb2','stdb3']].to_numpy().T\n",
        "\n",
        "plt.figure(figsize=(10,7))\n",
        "df[['mean_VHS', 'mean_HS', 'mean_SS']].plot(kind='bar', yerr=yerr, alpha=0.5, error_kw=dict(ecolor='k'),figsize=(10, 7))\n",
        "#df.plot(figsize=(20, 10))\n",
        "#plt.xlabel('xlabel')\n",
        "plt.ylabel('delay error (minutes)')\n",
        "plt.show()"
      ],
      "metadata": {
        "id": "YgJxtll3BhOe"
      },
      "execution_count": null,
      "outputs": []
    },
    {
      "cell_type": "code",
      "source": [
        "plt.errorbar(model_n, mean_b1, yerr=std_b1, label='both limits (default)', fmt='.k')\n",
        "plt.errorbar(model_n, mean_b2, yerr=std_b2, label='both limits (default)')\n",
        "plt.errorbar(model_n, mean_b3, yerr=std_b3, label='both limits (default)')"
      ],
      "metadata": {
        "id": "5msnZYsFCU8k"
      },
      "execution_count": null,
      "outputs": []
    },
    {
      "cell_type": "code",
      "source": [
        "#y=np.range(0,20,1)\n",
        "fig = plt.figure(figsize=(11.5,6))\n",
        "plt.ylim([0,20])\n",
        "plt.bar(model_n,mean_b1,width=0.4,color='blue',alpha=0.3,edgecolor='black')\n",
        "plt.bar(model_n,mean_b2,width=0.4,color='orange',alpha=0.3,edgecolor='black')\n",
        "plt.bar(model_n,mean_b3,width=0.4,color='yellow',alpha=0.3,edgecolor='black')\n",
        "fig.suptitle('Accuracy Scores', fontsize=20)\n",
        "plt.xlabel('ML_model',fontsize=16)\n",
        "plt.ylabel('delay_error(mins)',fontsize=16)\n"
      ],
      "metadata": {
        "id": "XreH6rvB_xT5"
      },
      "execution_count": null,
      "outputs": []
    },
    {
      "cell_type": "code",
      "source": [
        "cv = KFold(n_splits=3, random_state=1, shuffle=True)\n",
        "  # create model\n",
        "\n",
        "  # evaluate model\n",
        "scores1 = cross_val_score(rdge, np.array(x_1bin), np.array(y_1bin), scoring='neg_mean_squared_error', cv=cv, n_jobs=-1)\n",
        "print('Bin1 : MSE: %.3f (%.3f)' % (np.abs(mean(scores1)), std(scores1)))"
      ],
      "metadata": {
        "id": "k9cbG7TWwnVu"
      },
      "execution_count": null,
      "outputs": []
    },
    {
      "cell_type": "code",
      "source": [
        "rf_1bin,rf_2bin,rf_3bin,rf1_error,rf2_error,rf3_error=pred_bins(clf1)\n",
        "print(rf1_error,rf2_error,rf3_error)\n"
      ],
      "metadata": {
        "id": "P40KCQxRtIQa"
      },
      "execution_count": null,
      "outputs": []
    },
    {
      "cell_type": "code",
      "source": [
        "x_train.shape"
      ],
      "metadata": {
        "id": "26L-Val5utYP"
      },
      "execution_count": null,
      "outputs": []
    },
    {
      "cell_type": "code",
      "source": [
        "np.array(x_3bin).shape"
      ],
      "metadata": {
        "id": "ntjBLZV7uj0g"
      },
      "execution_count": null,
      "outputs": []
    },
    {
      "cell_type": "code",
      "source": [
        "##ridge regression\n",
        "from sklearn.linear_model import Ridge\n",
        "rdge = Ridge(alpha=1.0)\n",
        "rdge.fit(x_train,y_train)\n"
      ],
      "metadata": {
        "id": "kHf5XIxekLrh"
      },
      "execution_count": null,
      "outputs": []
    },
    {
      "cell_type": "code",
      "source": [
        "##GPR(Gaussian process regressor)\n",
        "\n",
        "from sklearn.gaussian_process import GaussianProcessRegressor\n",
        "\n",
        "gpr=GaussianProcessRegressor()\n",
        "gpr.fit(x_train,y_train)\n",
        "y_gpr=gpr.predict(x_test)\n",
        "#error\n",
        "y_gpr_error=np.sqrt(mean_squared_error(y_test,y_gpr))\n",
        "print(y_gpr_error/60,'mins')"
      ],
      "metadata": {
        "id": "KJKenAzNn1wj"
      },
      "execution_count": null,
      "outputs": []
    },
    {
      "cell_type": "code",
      "metadata": {
        "id": "ZT7x4768uBul"
      },
      "source": [
        "#Randomforest\n",
        "from sklearn.ensemble import RandomForestClassifier\n",
        "clf1=RandomForestClassifier(n_estimators=150)\n",
        "clf1.fit(x_train,y_train)"
      ],
      "execution_count": null,
      "outputs": []
    },
    {
      "cell_type": "code",
      "metadata": {
        "id": "E48n9eCQwaXI"
      },
      "source": [
        "y_pred1=clf1.predict(x_test)"
      ],
      "execution_count": null,
      "outputs": []
    },
    {
      "cell_type": "code",
      "metadata": {
        "id": "0Oi-Djbzwjs8"
      },
      "source": [
        "plt.figure(figsize=(15,7))\n",
        "#plt.plot(y_pred,label='100trees')\n",
        "plt.plot(y_test,label='observed')\n",
        "plt.plot(y_pred1,label='50trees')\n",
        "plt.legend()"
      ],
      "execution_count": null,
      "outputs": []
    },
    {
      "cell_type": "code",
      "metadata": {
        "id": "jYCpTFKXAmkx"
      },
      "source": [
        "#error\n",
        "y_rf_error=np.sqrt(mean_squared_error(y_test,y_pred1))\n",
        "print(y_rf_error/60,'mins')"
      ],
      "execution_count": null,
      "outputs": []
    },
    {
      "cell_type": "code",
      "metadata": {
        "id": "6EVVhNLgwjzU"
      },
      "source": [
        "plt.figure(figsize=(7,7))\n",
        "plt.scatter(y_test,y_pred)\n",
        "plt.xlabel('observed')\n",
        "plt.ylabel('predicted')"
      ],
      "execution_count": null,
      "outputs": []
    },
    {
      "cell_type": "code",
      "metadata": {
        "id": "sIMwxGi1WYV7"
      },
      "source": [
        ""
      ],
      "execution_count": null,
      "outputs": []
    },
    {
      "cell_type": "code",
      "metadata": {
        "id": "mAo74e7wS90l"
      },
      "source": [
        "##predicting with bins\n",
        "\n",
        "rf_1bin,rf_2bin,rf_3bin,rf1_error,rf2_error,rf3_error=pred_bins(clf1)\n",
        "print(rf1_error,rf2_error,rf3_error)\n"
      ],
      "execution_count": null,
      "outputs": []
    },
    {
      "cell_type": "code",
      "metadata": {
        "id": "ADSqJNoqw7do"
      },
      "source": [
        "#2)XGB\n",
        "#eXtreme Gradient Boosting, \n",
        "from xgboost import XGBRegressor\n",
        "from sklearn.model_selection import cross_val_score\n",
        "from sklearn.model_selection import RepeatedKFold\n",
        "model = XGBRegressor()\n",
        "cv = RepeatedKFold(n_splits=10, n_repeats=3, random_state=1)\n",
        "# evaluate model\n",
        "model.fit(x_train, y_train)\n",
        "# force scores to be positive\n"
      ],
      "execution_count": null,
      "outputs": []
    },
    {
      "cell_type": "code",
      "metadata": {
        "id": "A8PR0Ocsxs6L"
      },
      "source": [
        ""
      ],
      "execution_count": null,
      "outputs": []
    },
    {
      "cell_type": "code",
      "metadata": {
        "id": "FaOV0pHYyN9b"
      },
      "source": [
        "y_xgboost = model.predict(x_test)"
      ],
      "execution_count": null,
      "outputs": []
    },
    {
      "cell_type": "code",
      "metadata": {
        "id": "f8geJJSRyXM_"
      },
      "source": [
        "plt.figure(figsize=(7,7))\n",
        "plt.scatter(y_test,y_xgboost)\n",
        "plt.xlabel('observed')\n",
        "plt.ylabel('predicted')"
      ],
      "execution_count": null,
      "outputs": []
    },
    {
      "cell_type": "code",
      "metadata": {
        "id": "_pnqWZlJBTye"
      },
      "source": [
        "#error\n",
        "y_xg_error=np.sqrt(mean_squared_error(y_test,y_xgboost))\n",
        "print('y_xg_error:',y_xg_error/60,'mins')"
      ],
      "execution_count": null,
      "outputs": []
    },
    {
      "cell_type": "code",
      "metadata": {
        "id": "_7_eObO6Y5IJ"
      },
      "source": [
        "xg_1bin,xg_2bin,xg_3bin,xg1_error,xg2_error,xg3_error=pred_bins(model)\n",
        "print(xg1_error,xg2_error,xg3_error)"
      ],
      "execution_count": null,
      "outputs": []
    },
    {
      "cell_type": "code",
      "metadata": {
        "id": "a1EIkUuuvQbD"
      },
      "source": [
        "##SVR\n",
        "from sklearn.svm import SVR\n",
        "regressor = SVR(kernel = 'rbf')\n",
        "regressor.fit(x_train, y_train)\n",
        "y_svr = regressor.predict(x_test)"
      ],
      "execution_count": null,
      "outputs": []
    },
    {
      "cell_type": "code",
      "metadata": {
        "id": "q11qNdfFvYcg"
      },
      "source": [
        "plt.figure(figsize=(7,7))\n",
        "plt.scatter(y_test,y_svr)\n",
        "plt.xlabel('observed')\n",
        "plt.ylabel('predicted')"
      ],
      "execution_count": null,
      "outputs": []
    },
    {
      "cell_type": "code",
      "metadata": {
        "id": "mDv4UMn2Bf-e"
      },
      "source": [
        "#error\n",
        "y_svr_error=np.sqrt(mean_squared_error(y_test,y_svr))\n",
        "print('y_svr_error:',y_svr_error/60,'mins')"
      ],
      "execution_count": null,
      "outputs": []
    },
    {
      "cell_type": "code",
      "metadata": {
        "id": "yDbo-prMZNDG"
      },
      "source": [
        "svr_1bin,svr_2bin,svr_3bin,svr1_error,svr2_error,svr3_error=pred_bins(regressor)\n",
        "print(svr1_error,svr2_error,svr3_error)"
      ],
      "execution_count": null,
      "outputs": []
    },
    {
      "cell_type": "code",
      "metadata": {
        "id": "NWRKHjp5BrwS"
      },
      "source": [
        ""
      ],
      "execution_count": null,
      "outputs": []
    },
    {
      "cell_type": "code",
      "metadata": {
        "id": "m-t1QXHmwDpU"
      },
      "source": [
        "##decisiontree\n",
        "from sklearn.tree import DecisionTreeRegressor \n",
        "DT = DecisionTreeRegressor(random_state = 0)\n",
        "DT.fit(x_train, y_train)\n",
        "y_dt=DT.predict(x_test)"
      ],
      "execution_count": null,
      "outputs": []
    },
    {
      "cell_type": "code",
      "metadata": {
        "id": "y_kHpXgTwnvd"
      },
      "source": [
        "plt.figure(figsize=(7,7))\n",
        "plt.scatter(y_test,y_dt)\n",
        "plt.xlabel('observed')\n",
        "plt.ylabel('predicted')"
      ],
      "execution_count": null,
      "outputs": []
    },
    {
      "cell_type": "code",
      "metadata": {
        "id": "llDCArRNB51A"
      },
      "source": [
        "#error\n",
        "y_dt_error=np.sqrt(mean_squared_error(y_test,y_dt))\n",
        "print('y_dt_error:',y_dt_error/60,'mins')"
      ],
      "execution_count": null,
      "outputs": []
    },
    {
      "cell_type": "code",
      "metadata": {
        "id": "dS6Ub4JiZhGH"
      },
      "source": [
        "DT_1bin,DT_2bin,DT_3bin,DT1_error,DT2_error,DT3_error=pred_bins(DT)\n",
        "print(DT1_error,DT2_error,DT3_error)"
      ],
      "execution_count": null,
      "outputs": []
    },
    {
      "cell_type": "code",
      "metadata": {
        "id": "mbckxRouw8gV"
      },
      "source": [
        "##adaboost regression\n",
        "from sklearn.ensemble import AdaBoostRegressor\n",
        "adaboost_model= AdaBoostRegressor()\n",
        "adaboost_model.fit(x_train, y_train)\n",
        "y_adaboost=adaboost_model.predict(x_test)"
      ],
      "execution_count": null,
      "outputs": []
    },
    {
      "cell_type": "code",
      "metadata": {
        "id": "49z1miNbCBAp"
      },
      "source": [
        "#error\n",
        "y_adaboost_error=np.sqrt(mean_squared_error(y_test,y_adaboost))\n",
        "print('y_adaboost_error:',y_adaboost_error/60,'mins')"
      ],
      "execution_count": null,
      "outputs": []
    },
    {
      "cell_type": "code",
      "metadata": {
        "id": "tNVhCuYDxNHI"
      },
      "source": [
        "plt.figure(figsize=(7,7))\n",
        "plt.scatter(y_test,y_adaboost)\n",
        "plt.xlabel('observed')\n",
        "plt.ylabel('predicted')"
      ],
      "execution_count": null,
      "outputs": []
    },
    {
      "cell_type": "code",
      "metadata": {
        "id": "6WCCyypIxYua"
      },
      "source": [
        "AB_1bin,AB_2bin,AB_3bin,AB1_error,AB2_error,AB3_error=pred_bins(adaboost_model)\n",
        "print(AB1_error,AB2_error,AB3_error)"
      ],
      "execution_count": null,
      "outputs": []
    },
    {
      "cell_type": "code",
      "metadata": {
        "id": "c0G_7aHuxYxN"
      },
      "source": [
        "#neural networks\n",
        "from keras.layers import Dense, BatchNormalization, Dropout, LSTM\n",
        "from keras.models import Sequential\n",
        "\n",
        "from tensorflow.keras.optimizers import Adam\n",
        "from tensorflow.keras import regularizers\n",
        "from tensorflow.keras import metrics\n",
        "from sklearn.metrics import precision_score, recall_score, confusion_matrix, classification_report, accuracy_score, f1_score\n",
        "from keras import callbacks\n",
        "\n",
        "\n",
        "def ann_model():\n",
        "  model_nn=Sequential()\n",
        "  model_nn.add(Dense(units = 32, activation = 'relu', input_dim = 6))\n",
        "  model_nn.add(Dense(units = 16, activation = 'relu'))\n",
        "  #model_nn.add(Dropout(0.25))\n",
        "  #model_nn.add(Dense(units = 8, kernel_initializer = 'uniform', activation = 'relu'))\n",
        "  model_nn.add(Dense(units = 1, activation = 'linear'))\n",
        "\n",
        "\n",
        "  model_nn.compile(optimizer = Adam(learning_rate=0.001), loss = 'mse', metrics = [metrics.mean_squared_error])\n",
        "  return model_nn"
      ],
      "execution_count": null,
      "outputs": []
    },
    {
      "cell_type": "code",
      "metadata": {
        "id": "UbUiszCSzqU-"
      },
      "source": [
        "history=model_nn.fit(x_train,y_train,batch_size = 16, epochs = 200, validation_split=0.2)"
      ],
      "execution_count": null,
      "outputs": []
    },
    {
      "cell_type": "code",
      "metadata": {
        "id": "dHg8bOK18A-w"
      },
      "source": [
        ""
      ],
      "execution_count": null,
      "outputs": []
    },
    {
      "cell_type": "code",
      "metadata": {
        "id": "BKr4OAefz1cX"
      },
      "source": [
        "import pandas as pd\n",
        "history_df = pd.DataFrame(history.history)\n",
        "\n",
        "plt.plot(history_df.loc[:, ['loss']], label='Training loss')\n",
        "plt.plot(history_df.loc[:, ['val_loss']], label='Validation loss')\n",
        "plt.title('Training and Validation loss')\n",
        "plt.xlabel('Epochs')\n",
        "plt.ylabel('Loss')\n",
        "plt.legend(loc=\"best\")"
      ],
      "execution_count": null,
      "outputs": []
    },
    {
      "cell_type": "code",
      "metadata": {
        "id": "uXu8gq-uz-Qm"
      },
      "source": [
        "y_nn=model_nn.predict(x_test)"
      ],
      "execution_count": null,
      "outputs": []
    },
    {
      "cell_type": "code",
      "metadata": {
        "id": "s1Hh3Mc-COn0"
      },
      "source": [
        "#error\n",
        "y_nn_error=np.sqrt(mean_squared_error(y_test,y_nn))\n",
        "print('y_nn_error:',y_nn_error/60,'mins')"
      ],
      "execution_count": null,
      "outputs": []
    },
    {
      "cell_type": "code",
      "metadata": {
        "id": "5XEhnKNla5Cw"
      },
      "source": [
        "NN_1bin,NN_2bin,NN_3bin,NN1_error,NN2_error,NN3_error=pred_bins(model_nn)\n",
        "print(NN1_error,NN2_error,NN3_error)"
      ],
      "execution_count": null,
      "outputs": []
    },
    {
      "cell_type": "code",
      "metadata": {
        "id": "Z5dpXTBb7V4d"
      },
      "source": [
        "plt.figure(figsize=(7,7))\n",
        "plt.scatter(y_test,y_nn)\n",
        "plt.xlabel('observed')\n",
        "plt.ylabel('predicted')"
      ],
      "execution_count": null,
      "outputs": []
    },
    {
      "cell_type": "code",
      "metadata": {
        "id": "4sfaYlyN8B7G"
      },
      "source": [
        "plt.figure(figsize=(15,7))\n",
        "plt.plot(target_y)\n",
        "plt.plot(model_nn.predict(input_x))"
      ],
      "execution_count": null,
      "outputs": []
    },
    {
      "cell_type": "code",
      "metadata": {
        "id": "qLXqLtxd8B9a"
      },
      "source": [
        ""
      ],
      "execution_count": null,
      "outputs": []
    }
  ]
}